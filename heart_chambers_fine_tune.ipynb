{
 "cells": [
  {
   "cell_type": "code",
   "execution_count": null,
   "metadata": {},
   "outputs": [
    {
     "name": "stdout",
     "output_type": "stream",
     "text": [
      "Defaulting to user installation because normal site-packages is not writeable\n",
      "Requirement already satisfied: iopath in /home/zhanghaoyuan/.local/lib/python3.10/site-packages (0.1.10)\n",
      "Requirement already satisfied: portalocker in /home/zhanghaoyuan/.local/lib/python3.10/site-packages (from iopath) (3.1.1)\n",
      "Requirement already satisfied: typing-extensions in /home/zhanghaoyuan/.local/lib/python3.10/site-packages (from iopath) (4.12.2)\n",
      "Requirement already satisfied: tqdm in /home/zhanghaoyuan/.local/lib/python3.10/site-packages (from iopath) (4.67.1)\n",
      "Note: you may need to restart the kernel to use updated packages.\n"
     ]
    }
   ],
   "source": [
    "pip install iopath\n",
    "pip install hydra-core\n",
    "%pip install pandas numpy opencv-python scikit-learn torch torchvision tqdm matplotlib\n"
   ]
  },
  {
   "cell_type": "code",
   "execution_count": 6,
   "metadata": {},
   "outputs": [
    {
     "name": "stdout",
     "output_type": "stream",
     "text": [
      "/media/ps/data/Datasets/300例心脏分割/300例勾画图像\n"
     ]
    }
   ],
   "source": [
    "from pathlib import Path\n",
    "import sys\n",
    "sys.path.append('/media/ps/data/Datasets/300例心脏分割/300例勾画图像/FineTune_SAM2/segment-anything-2')\n",
    "from sam2.build_sam import build_sam2\n",
    "\n",
    "# Add parent directory to path\n",
    "parent_dir = Path().cwd().parent\n",
    "print(parent_dir)\n",
    "sys.path.append(str(parent_dir))\n"
   ]
  },
  {
   "cell_type": "code",
   "execution_count": 7,
   "metadata": {},
   "outputs": [],
   "source": [
    "from HeartChambersSAMTrainer import HeartChambersSAMTrainer\n",
    "from matplotlib import pyplot as plt"
   ]
  },
  {
   "cell_type": "code",
   "execution_count": 8,
   "metadata": {},
   "outputs": [
    {
     "ename": "ValueError",
     "evalue": "未找到有效的图像和标注对！请检查数据目录结构。",
     "output_type": "error",
     "traceback": [
      "\u001b[0;31m---------------------------------------------------------------------------\u001b[0m",
      "\u001b[0;31mValueError\u001b[0m                                Traceback (most recent call last)",
      "Cell \u001b[0;32mIn[8], line 9\u001b[0m\n\u001b[1;32m      2\u001b[0m trainer \u001b[38;5;241m=\u001b[39m HeartChambersSAMTrainer(\n\u001b[1;32m      3\u001b[0m     data_dir\u001b[38;5;241m=\u001b[39m\u001b[38;5;124m\"\u001b[39m\u001b[38;5;124m/media/ps/data/Datasets/300例心脏分割/300例勾画图像/FineTune_SAM2/data/heart_chambers_dataset\u001b[39m\u001b[38;5;124m\"\u001b[39m,\n\u001b[1;32m      4\u001b[0m     model_cfg\u001b[38;5;241m=\u001b[39m\u001b[38;5;124m\"\u001b[39m\u001b[38;5;124m./media/ps/data/Datasets/300例心脏分割/300例勾画图像/FineTune_SAM2/segment-anything-2/sam2/configs/sam2.1/sam2.1_hiera_s.yaml\u001b[39m\u001b[38;5;124m\"\u001b[39m,\n\u001b[1;32m      5\u001b[0m     checkpoint_path\u001b[38;5;241m=\u001b[39m\u001b[38;5;124m\"\u001b[39m\u001b[38;5;124m/media/ps/data/Datasets/300例心脏分割/300例勾画图像/FineTune_SAM2/segment-anything-2/checkpoints/sam2.1_hiera_small.pt\u001b[39m\u001b[38;5;124m\"\u001b[39m\n\u001b[1;32m      6\u001b[0m )\n\u001b[1;32m      8\u001b[0m \u001b[38;5;66;03m# Prepare the dataset\u001b[39;00m\n\u001b[0;32m----> 9\u001b[0m \u001b[43mtrainer\u001b[49m\u001b[38;5;241;43m.\u001b[39;49m\u001b[43mprepare_data\u001b[49m\u001b[43m(\u001b[49m\u001b[43mtest_size\u001b[49m\u001b[38;5;241;43m=\u001b[39;49m\u001b[38;5;241;43m0.2\u001b[39;49m\u001b[43m)\u001b[49m\n\u001b[1;32m     11\u001b[0m \u001b[38;5;66;03m# Initialize the model\u001b[39;00m\n\u001b[1;32m     12\u001b[0m trainer\u001b[38;5;241m.\u001b[39minitialize_model()\n",
      "File \u001b[0;32m/media/ps/data/Datasets/300例心脏分割/300例勾画图像/FineTune_SAM2/HeartChambersSAMTrainer.py:144\u001b[0m, in \u001b[0;36mHeartChambersSAMTrainer.prepare_data\u001b[0;34m(self, test_size, random_state)\u001b[0m\n\u001b[1;32m    136\u001b[0m                     all_entries\u001b[38;5;241m.\u001b[39mappend({\n\u001b[1;32m    137\u001b[0m                         \u001b[38;5;124m\"\u001b[39m\u001b[38;5;124mimage\u001b[39m\u001b[38;5;124m\"\u001b[39m: image_path,\n\u001b[1;32m    138\u001b[0m                         \u001b[38;5;124m\"\u001b[39m\u001b[38;5;124mannotation\u001b[39m\u001b[38;5;124m\"\u001b[39m: json_file,\n\u001b[1;32m    139\u001b[0m                         \u001b[38;5;124m\"\u001b[39m\u001b[38;5;124mview_type\u001b[39m\u001b[38;5;124m\"\u001b[39m: view_type,\n\u001b[1;32m    140\u001b[0m                         \u001b[38;5;124m\"\u001b[39m\u001b[38;5;124mpatient_id\u001b[39m\u001b[38;5;124m\"\u001b[39m: patient_id\n\u001b[1;32m    141\u001b[0m                     })\n\u001b[1;32m    143\u001b[0m \u001b[38;5;28;01mif\u001b[39;00m \u001b[38;5;129;01mnot\u001b[39;00m all_entries:\n\u001b[0;32m--> 144\u001b[0m     \u001b[38;5;28;01mraise\u001b[39;00m \u001b[38;5;167;01mValueError\u001b[39;00m(\u001b[38;5;124m\"\u001b[39m\u001b[38;5;124m未找到有效的图像和标注对！请检查数据目录结构。\u001b[39m\u001b[38;5;124m\"\u001b[39m)\n\u001b[1;32m    146\u001b[0m \u001b[38;5;66;03m# 按照病人ID分组\u001b[39;00m\n\u001b[1;32m    147\u001b[0m patient_groups \u001b[38;5;241m=\u001b[39m {}\n",
      "\u001b[0;31mValueError\u001b[0m: 未找到有效的图像和标注对！请检查数据目录结构。"
     ]
    }
   ],
   "source": [
    "# Initialize the trainer\n",
    "trainer = HeartChambersSAMTrainer(\n",
    "    data_dir=\"/media/ps/data/Datasets/300例心脏分割/300例勾画图像/FineTune_SAM2/data/heart_chambers_dataset\",\n",
    "    model_cfg=\"./media/ps/data/Datasets/300例心脏分割/300例勾画图像/FineTune_SAM2/segment-anything-2/sam2/configs/sam2.1/sam2.1_hiera_s.yaml\",\n",
    "    checkpoint_path=\"/media/ps/data/Datasets/300例心脏分割/300例勾画图像/FineTune_SAM2/segment-anything-2/checkpoints/sam2.1_hiera_small.pt\"\n",
    ")\n",
    "\n",
    "# Prepare the dataset\n",
    "trainer.prepare_data(test_size=0.2)\n",
    "\n",
    "# Initialize the model\n",
    "trainer.initialize_model()\n",
    "\n",
    "# Train the model\n",
    "trainer.train(\n",
    "    \n",
    "    steps=2000,\n",
    "    learning_rate=1e-5,  # 降低学习率适应医学图像任务\n",
    "    weight_decay=2e-4,   # 增加正则化\n",
    "    checkpoint_interval=500,\n",
    "    validation_interval=500  # 添加验证间隔\n",
    ")"
   ]
  },
  {
   "cell_type": "code",
   "execution_count": null,
   "metadata": {},
   "outputs": [],
   "source": []
  }
 ],
 "metadata": {
  "kernelspec": {
   "display_name": "Python 3",
   "language": "python",
   "name": "python3"
  },
  "language_info": {
   "codemirror_mode": {
    "name": "ipython",
    "version": 3
   },
   "file_extension": ".py",
   "mimetype": "text/x-python",
   "name": "python",
   "nbconvert_exporter": "python",
   "pygments_lexer": "ipython3",
   "version": "3.10.12"
  }
 },
 "nbformat": 4,
 "nbformat_minor": 2
}
