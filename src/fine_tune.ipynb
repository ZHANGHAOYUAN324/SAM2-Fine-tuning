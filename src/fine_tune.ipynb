{
 "cells": [
  {
   "cell_type": "code",
   "execution_count": null,
   "metadata": {},
   "outputs": [],
   "source": [
    "from pathlib import Path\n",
    "import sys\n",
    "\n",
    "# Add parent directory to path\n",
    "parent_dir = Path().cwd().parent\n",
    "print(parent_dir)\n",
    "sys.path.append(str(parent_dir))"
   ]
  },
  {
   "cell_type": "code",
   "execution_count": null,
   "metadata": {},
   "outputs": [],
   "source": [
    "from finetune_sam2 import SAMTrainer\n",
    "from matplotlib import pyplot as plt"
   ]
  },
  {
   "cell_type": "code",
   "execution_count": null,
   "metadata": {},
   "outputs": [],
   "source": [
    "# Initialize the trainer\n",
    "trainer = SAMTrainer(\n",
    "    data_dir=\"../assets/Sam2-Train-Data\",\n",
    "    model_cfg=\"../sam2/configs/sam2.1/sam2.1_hiera_s.yaml\",\n",
    "    checkpoint_path=\"../checkpoints/sam2.1_hiera_small.pt\"\n",
    ")\n",
    "\n",
    "# Prepare the dataset\n",
    "trainer.prepare_data(test_size=0.2)\n",
    "\n",
    "# Initialize the model\n",
    "trainer.initialize_model()\n",
    "\n",
    "# Train the model\n",
    "trainer.train(\n",
    "    steps=2000,\n",
    "    learning_rate=0.0001,\n",
    "    checkpoint_interval=500\n",
    ")"
   ]
  },
  {
   "cell_type": "code",
   "execution_count": null,
   "metadata": {},
   "outputs": [],
   "source": [
    "# Perform inference\n",
    "import random\n",
    "\n",
    "if not trainer.test_data:\n",
    "    raise ValueError(\"Test data is empty. Ensure that the dataset is prepared correctly.\")\n",
    "\n",
    "selected_entry = random.choice(trainer.test_data)\n",
    "print(selected_entry)\n",
    "\n",
    "image_path = selected_entry['image']\n",
    "mask_path = selected_entry['annotation']\n",
    "image, mask, segmentation = trainer.inference(\n",
    "    image_path=image_path,\n",
    "    mask_path=mask_path,\n",
    "    checkpoint_path=\"./models/fine_tuned_sam2_2000.torch\"\n",
    ")\n",
    "\n",
    "plt.figure(figsize=(18, 6))\n",
    "plt.subplot(1, 3, 1)\n",
    "plt.title('Test Image')\n",
    "plt.imshow(image)\n",
    "plt.axis('off')\n",
    "\n",
    "plt.subplot(1, 3, 2)\n",
    "plt.title('Original Mask')\n",
    "plt.imshow(mask, cmap='gray')\n",
    "plt.axis('off')\n",
    "\n",
    "plt.subplot(1, 3, 3)\n",
    "plt.title('Predicted Segmentation')\n",
    "plt.imshow(segmentation, cmap='jet')\n",
    "plt.axis('off')\n",
    "\n",
    "plt.tight_layout()\n",
    "plt.show()"
   ]
  }
 ],
 "metadata": {
  "kernelspec": {
   "display_name": "Python 3",
   "language": "python",
   "name": "python3"
  },
  "language_info": {
   "codemirror_mode": {
    "name": "ipython",
    "version": 3
   },
   "file_extension": ".py",
   "mimetype": "text/x-python",
   "name": "python",
   "nbconvert_exporter": "python",
   "pygments_lexer": "ipython3",
   "version": "3.10.13"
  }
 },
 "nbformat": 4,
 "nbformat_minor": 2
}
